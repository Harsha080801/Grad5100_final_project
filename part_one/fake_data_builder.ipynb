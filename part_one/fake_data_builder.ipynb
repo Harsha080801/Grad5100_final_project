{
 "cells": [
  {
   "cell_type": "markdown",
   "id": "e9ff8171",
   "metadata": {},
   "source": [
    "## Libraries"
   ]
  },
  {
   "cell_type": "code",
   "execution_count": 166,
   "id": "459fcd9b",
   "metadata": {},
   "outputs": [],
   "source": [
    "import numpy as np\n",
    "import pandas as pd\n",
    "import random\n",
    "import scipy.stats as sps\n",
    "import matplotlib.pyplot as plt\n",
    "\n",
    "random.seed(88)  "
   ]
  },
  {
   "cell_type": "markdown",
   "id": "7b44bcfa",
   "metadata": {},
   "source": [
    "# 1"
   ]
  },
  {
   "cell_type": "markdown",
   "id": "50edfa34",
   "metadata": {},
   "source": [
    "## ID and Group features"
   ]
  },
  {
   "cell_type": "code",
   "execution_count": 167,
   "id": "ccc476df",
   "metadata": {},
   "outputs": [],
   "source": [
    "n=800\n",
    "# creating ID\n",
    "id=list(\"ID\"+str(i+100) for i in range(1,n+1))\n",
    "random.shuffle(id)\n",
    "# creating groups and shuffling\n",
    "group = np.repeat(['A', 'B', 'C'], repeats=[267, 267, 266])\n",
    "random.shuffle(group)"
   ]
  },
  {
   "cell_type": "markdown",
   "id": "4360d8bc",
   "metadata": {},
   "source": [
    "## Feature_1"
   ]
  },
  {
   "cell_type": "code",
   "execution_count": 168,
   "id": "9b7c5477",
   "metadata": {},
   "outputs": [
    {
     "data": {
      "text/plain": [
       "2496.3234563701185"
      ]
     },
     "execution_count": 168,
     "metadata": {},
     "output_type": "execute_result"
    }
   ],
   "source": [
    "# creating Feature_1\n",
    "mean1 = 2500\n",
    "std1 = 300\n",
    "feature_1 = sps.norm.rvs(mean1, std1, size=n)\n",
    "feature_1.mean()"
   ]
  },
  {
   "cell_type": "markdown",
   "id": "199599de",
   "metadata": {},
   "source": [
    "## Feature_2 "
   ]
  },
  {
   "cell_type": "code",
   "execution_count": 169,
   "id": "163d4f09",
   "metadata": {},
   "outputs": [
    {
     "data": {
      "text/plain": [
       "399.5215682211895"
      ]
     },
     "execution_count": 169,
     "metadata": {},
     "output_type": "execute_result"
    }
   ],
   "source": [
    "# creating Feature_2\n",
    "mean2 = 400\n",
    "std2 = 15\n",
    "feature_2 = sps.norm.rvs(mean2, std2, size=n)\n",
    "feature_2.mean()"
   ]
  },
  {
   "cell_type": "markdown",
   "id": "b6334d57",
   "metadata": {},
   "source": [
    "## Dataframe with ID, Group, Feature_1, Feature_2 attributes"
   ]
  },
  {
   "cell_type": "code",
   "execution_count": 170,
   "id": "519cebaa",
   "metadata": {},
   "outputs": [
    {
     "data": {
      "text/plain": [
       "B    267\n",
       "A    267\n",
       "C    266\n",
       "Name: Group, dtype: int64"
      ]
     },
     "execution_count": 170,
     "metadata": {},
     "output_type": "execute_result"
    }
   ],
   "source": [
    "data = pd.DataFrame({\"ID\":id,\"Group\":group,\"Feature_1\":feature_1,\"Feature_2\":feature_2})\n",
    "data['Group'].value_counts()"
   ]
  },
  {
   "cell_type": "markdown",
   "id": "d8928341",
   "metadata": {},
   "source": [
    "## Feature_3"
   ]
  },
  {
   "cell_type": "code",
   "execution_count": 171,
   "id": "7404d0cd",
   "metadata": {},
   "outputs": [],
   "source": [
    "# creating Feature_3\n",
    "data['Feature_3'] = np.nan\n",
    "data.loc[data['Group'] == 'A', 'Feature_3'] = 3 * data['Feature_1'] - 5 * data['Feature_2']\n",
    "data.loc[data['Group'] == 'B', 'Feature_3'] = 2 * data['Feature_1']\n",
    "data.loc[data['Group'] == 'C', 'Feature_3'] = -data['Feature_1'] + data['Feature_2']\n",
    "\n",
    "# stats for Feature_3 \n",
    "mean_3 = 0\n",
    "std_3 = 12\n",
    "additional_component = sps.norm.rvs(mean_3, std_3, size=n)\n",
    "data['Feature_3'] += additional_component"
   ]
  },
  {
   "cell_type": "code",
   "execution_count": 172,
   "id": "f22a2d60",
   "metadata": {},
   "outputs": [
    {
     "data": {
      "text/html": [
       "<div>\n",
       "<style scoped>\n",
       "    .dataframe tbody tr th:only-of-type {\n",
       "        vertical-align: middle;\n",
       "    }\n",
       "\n",
       "    .dataframe tbody tr th {\n",
       "        vertical-align: top;\n",
       "    }\n",
       "\n",
       "    .dataframe thead th {\n",
       "        text-align: right;\n",
       "    }\n",
       "</style>\n",
       "<table border=\"1\" class=\"dataframe\">\n",
       "  <thead>\n",
       "    <tr style=\"text-align: right;\">\n",
       "      <th></th>\n",
       "      <th>ID</th>\n",
       "      <th>Group</th>\n",
       "      <th>Feature_1</th>\n",
       "      <th>Feature_2</th>\n",
       "      <th>Feature_3</th>\n",
       "    </tr>\n",
       "  </thead>\n",
       "  <tbody>\n",
       "    <tr>\n",
       "      <th>0</th>\n",
       "      <td>ID387</td>\n",
       "      <td>B</td>\n",
       "      <td>2440.938631</td>\n",
       "      <td>424.441323</td>\n",
       "      <td>4864.831856</td>\n",
       "    </tr>\n",
       "    <tr>\n",
       "      <th>1</th>\n",
       "      <td>ID537</td>\n",
       "      <td>B</td>\n",
       "      <td>1705.498511</td>\n",
       "      <td>400.820547</td>\n",
       "      <td>3414.234631</td>\n",
       "    </tr>\n",
       "    <tr>\n",
       "      <th>2</th>\n",
       "      <td>ID789</td>\n",
       "      <td>C</td>\n",
       "      <td>2773.768079</td>\n",
       "      <td>391.407483</td>\n",
       "      <td>-2406.293454</td>\n",
       "    </tr>\n",
       "    <tr>\n",
       "      <th>3</th>\n",
       "      <td>ID535</td>\n",
       "      <td>A</td>\n",
       "      <td>2565.610303</td>\n",
       "      <td>396.347890</td>\n",
       "      <td>5734.947794</td>\n",
       "    </tr>\n",
       "    <tr>\n",
       "      <th>4</th>\n",
       "      <td>ID486</td>\n",
       "      <td>B</td>\n",
       "      <td>3133.587707</td>\n",
       "      <td>424.002603</td>\n",
       "      <td>6253.732835</td>\n",
       "    </tr>\n",
       "  </tbody>\n",
       "</table>\n",
       "</div>"
      ],
      "text/plain": [
       "      ID Group    Feature_1   Feature_2    Feature_3\n",
       "0  ID387     B  2440.938631  424.441323  4864.831856\n",
       "1  ID537     B  1705.498511  400.820547  3414.234631\n",
       "2  ID789     C  2773.768079  391.407483 -2406.293454\n",
       "3  ID535     A  2565.610303  396.347890  5734.947794\n",
       "4  ID486     B  3133.587707  424.002603  6253.732835"
      ]
     },
     "execution_count": 172,
     "metadata": {},
     "output_type": "execute_result"
    }
   ],
   "source": [
    "data.head()"
   ]
  },
  {
   "cell_type": "markdown",
   "id": "4cf66a6f",
   "metadata": {},
   "source": [
    "# 2"
   ]
  },
  {
   "cell_type": "markdown",
   "id": "c07adb25",
   "metadata": {},
   "source": [
    "## a"
   ]
  },
  {
   "cell_type": "code",
   "execution_count": 173,
   "id": "9e13bd4c",
   "metadata": {},
   "outputs": [
    {
     "name": "stdout",
     "output_type": "stream",
     "text": [
      "Number of samples greater than 3000: 38\n"
     ]
    }
   ],
   "source": [
    "# samples greater than 3000 (expected)\n",
    "from scipy.stats import norm\n",
    "\n",
    "mean4 = 2500\n",
    "std4 = 300\n",
    "\n",
    "# Z-score for 3000\n",
    "z = (3000 - mean4) / std4\n",
    "\n",
    "ab3k = 1 - norm.cdf(z)\n",
    "\n",
    "# Number of samples greater than 3000\n",
    "samp_ab3k = round( n * ab3k)\n",
    "\n",
    "print(\"Number of samples greater than 3000:\", samp_ab3k)\n"
   ]
  },
  {
   "cell_type": "markdown",
   "id": "2dd16c0a",
   "metadata": {},
   "source": [
    "## b"
   ]
  },
  {
   "cell_type": "code",
   "execution_count": 174,
   "id": "673784eb",
   "metadata": {},
   "outputs": [
    {
     "data": {
      "text/plain": [
       "30"
      ]
     },
     "execution_count": 174,
     "metadata": {},
     "output_type": "execute_result"
    }
   ],
   "source": [
    "# samples with Feature_1 greater than 3000 (actual)\n",
    "sum(data['Feature_1']>3000)"
   ]
  },
  {
   "cell_type": "markdown",
   "id": "aefb1124",
   "metadata": {},
   "source": [
    "## c"
   ]
  },
  {
   "cell_type": "code",
   "execution_count": 175,
   "id": "a31b6982",
   "metadata": {},
   "outputs": [
    {
     "name": "stdout",
     "output_type": "stream",
     "text": [
      "              mean         std\n",
      "Group                         \n",
      "A      5567.402117  919.563194\n",
      "B      4936.630598  606.816321\n",
      "C     -2101.416325  290.820139\n"
     ]
    }
   ],
   "source": [
    "# mean and standard deviation of Feature_3\n",
    "grpdata = data.groupby('Group')['Feature_3'].agg(['mean', 'std'])\n",
    "print(grpdata)"
   ]
  },
  {
   "cell_type": "markdown",
   "id": "4041ff03",
   "metadata": {},
   "source": [
    "# 3"
   ]
  },
  {
   "cell_type": "code",
   "execution_count": 176,
   "id": "5274668f",
   "metadata": {},
   "outputs": [
    {
     "data": {
      "image/png": "[encoded data removed]",
      "text/plain": [
       "<Figure size 640x480 with 1 Axes>"
      ]
     },
     "metadata": {},
     "output_type": "display_data"
    }
   ],
   "source": [
    "# scatterplot of Feature_3 vs Feature_1\n",
    "plt.scatter(data['Feature_1'], data['Feature_3'])\n",
    "plt.xlabel('Feature_1')\n",
    "plt.ylabel('Feature_3')\n",
    "plt.title('Scatterplot of Feature_3 vs Feature_1')\n",
    "plt.show()"
   ]
  },
  {
   "cell_type": "markdown",
   "id": "13c5b4b5",
   "metadata": {},
   "source": [
    "# 4"
   ]
  },
  {
   "cell_type": "code",
   "execution_count": 177,
   "id": "1e700d20",
   "metadata": {},
   "outputs": [],
   "source": [
    "# making .csv file with dataframe\n",
    "data.to_csv('fake_data.csv', index=False)"
   ]
  }
 ],
 "metadata": {
  "kernelspec": {
   "display_name": "Python 3 (ipykernel)",
   "language": "python",
   "name": "python3"
  },
  "language_info": {
   "codemirror_mode": {
    "name": "ipython",
    "version": 3
   },
   "file_extension": ".py",
   "mimetype": "text/x-python",
   "name": "python",
   "nbconvert_exporter": "python",
   "pygments_lexer": "ipython3",
   "version": "3.11.4"
  }
 },
 "nbformat": 4,
 "nbformat_minor": 5
}
